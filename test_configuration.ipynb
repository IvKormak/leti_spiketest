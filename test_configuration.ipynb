{
 "cells": [
  {
   "cell_type": "code",
   "execution_count": 3,
   "id": "729e9ae4",
   "metadata": {},
   "outputs": [],
   "source": [
    "from model import *"
   ]
  },
  {
   "cell_type": "code",
   "execution_count": 32,
   "id": "e020989f",
   "metadata": {},
   "outputs": [],
   "source": [
    "param_set = pickle.load(open('optimal.param', 'rb'))"
   ]
  },
  {
   "cell_type": "code",
   "execution_count": 33,
   "id": "7e1f7d40",
   "metadata": {},
   "outputs": [
    {
     "data": {
      "text/plain": [
       "{'set': {'i_thres': 5000.0,\n",
       "  't_ltp': 1200.0,\n",
       "  't_refrac': 800.0,\n",
       "  't_leak': 800.0,\n",
       "  't_inhibit': 1000,\n",
       "  'w_min': 1,\n",
       "  'w_max': 1000,\n",
       "  'a_dec': 50,\n",
       "  'a_inc': 150,\n",
       "  'randmut': 0.001},\n",
       " 'score': 121.31135133846634}"
      ]
     },
     "execution_count": 33,
     "metadata": {},
     "output_type": "execute_result"
    }
   ],
   "source": [
    "param_set"
   ]
  },
  {
   "cell_type": "code",
   "execution_count": 21,
   "id": "7b962194",
   "metadata": {},
   "outputs": [],
   "source": [
    "model, timer = init_model(learn = True, structure = [7,])\n",
    "traces = [random.choice(Defaults.files) for _ in range(500)]\n",
    "model.set_param_set(param_set['set'])\n",
    "model.set_random_weights()\n",
    "start_time = time.time()\n",
    "for trace in traces:\n",
    "    model.feed.load(trace)\n",
    "    while frame:=model.next():\n",
    "            model.teacher.output = [1 if n == Defaults.files.index(trace) else 1j\n",
    "                                    for n in range(7)]\n",
    "end_time = time.time()\n",
    "print(end_time-start_time)"
   ]
  },
  {
   "cell_type": "code",
   "execution_count": 24,
   "id": "37384a75",
   "metadata": {},
   "outputs": [
    {
     "data": {
      "image/png": "[encoded data removed]",
      "text/plain": [
       "<Figure size 432x288 with 1 Axes>"
      ]
     },
     "metadata": {
      "needs_background": "light"
     },
     "output_type": "display_data"
    }
   ],
   "source": [
    "model.save_attention_maps('.')"
   ]
  },
  {
   "cell_type": "code",
   "execution_count": 31,
   "id": "293b4463",
   "metadata": {},
   "outputs": [],
   "source": [
    "import imageio as iio\n",
    "\n",
    "model.learn = False\n",
    "model.feed.load(\"resources//out.bin\")\n",
    "\n",
    "arrows = pickle.load(open('resources\\\\arrows.bin', 'rb'))\n",
    "white_square = np.multiply(np.ones((28,28)), 255)\n",
    "current_frame = np.copy(white_square)\n",
    "current_arrow = np.copy(white_square)\n",
    "frames = []\n",
    "frames_shown = 0\n",
    "\n",
    "while frame := model.next():\n",
    "    if 1 in frame:\n",
    "        frames_shown = 0\n",
    "        current_arrow = arrows[frame.index(1)]\n",
    "    if frames_shown > 50:\n",
    "        current_arrow = np.copy(white_square)\n",
    "    data = model.raw_data\n",
    "    synapse = model.feed.parse_aer(data)[0][0]\n",
    "    x_coord = int(synapse[0:2], base=16)\n",
    "    y_coord = int(synapse[2:4], base=16)\n",
    "    color = (synapse[4] == '0') * 255\n",
    "    current_frame[y_coord][x_coord] = color\n",
    "    frames.append(np.concatenate((current_frame, current_arrow)).astype(np.uint8))\n",
    "    frames_shown += 1\n",
    "\n",
    "iio.mimwrite('animation2.gif', frames, fps=60)"
   ]
  },
  {
   "cell_type": "code",
   "execution_count": null,
   "id": "4ca3780a",
   "metadata": {},
   "outputs": [],
   "source": []
  }
 ],
 "metadata": {
  "kernelspec": {
   "display_name": "Python 3 (ipykernel)",
   "language": "python",
   "name": "python3"
  },
  "language_info": {
   "codemirror_mode": {
    "name": "ipython",
    "version": 3
   },
   "file_extension": ".py",
   "mimetype": "text/x-python",
   "name": "python",
   "nbconvert_exporter": "python",
   "pygments_lexer": "ipython3",
   "version": "3.9.7"
  }
 },
 "nbformat": 4,
 "nbformat_minor": 5
}
